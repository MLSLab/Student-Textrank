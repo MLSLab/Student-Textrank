{
 "cells": [
  {
   "cell_type": "markdown",
   "metadata": {},
   "source": [
    "# TextRank"
   ]
  },
  {
   "cell_type": "markdown",
   "metadata": {},
   "source": [
    "## 핵심단어/문장 구하기"
   ]
  },
  {
   "cell_type": "markdown",
   "metadata": {},
   "source": [
    "### 1. 핵심단어 구하기\n",
    "\n",
    "1-1. 파일 읽기<br>\n",
    "1-2. 문장 Tokenize 하기<br>\n",
    "1-3. 단어 index 만들기<br>\n",
    "1-4. word 그래프 만들기<br>\n",
    "1-5. 그래프에 PageRank 적용<br>"
   ]
  },
  {
   "cell_type": "code",
   "execution_count": 1,
   "metadata": {},
   "outputs": [],
   "source": [
    "import numpy as np\n",
    "from konlpy.tag import Kkma\n",
    "from collections import Counter\n",
    "from collections import defaultdict\n",
    "from scipy.sparse import csr_matrix\n",
    "from sklearn.preprocessing import normalize\n",
    "import matplotlib.pyplot as plt\n",
    "import matplotlib.font_manager as fm\n",
    "import matplotlib"
   ]
  },
  {
   "cell_type": "markdown",
   "metadata": {},
   "source": [
    "\n",
    "#### 1-1. 파일 읽기"
   ]
  },
  {
   "cell_type": "code",
   "execution_count": 2,
   "metadata": {},
   "outputs": [],
   "source": [
    "with open('./test1.txt', encoding='utf-8') as f:\n",
    "    sents = [sent for row in f for sent in row.strip().split(\". \") if len(sent) > 0 ]"
   ]
  },
  {
   "cell_type": "code",
   "execution_count": 3,
   "metadata": {},
   "outputs": [
    {
     "data": {
      "text/plain": [
       "['인공신경망(artificial neural network, ANN)은 기계학습과 인지과학에서 생물학의 신경망에서 영감을 얻은 통계학적 학습 알고리즘으로 시냅스의 결합으로 네트워크를 형성한 인공 뉴런(노드)이 학습을 통해 시냅스의 결합 세기를 변화시켜, 문제 해결 능력을 가지는 모델 전반을 가리킨다',\n",
       " '인공신경망에는 교사 신호(정답)의 입력에 의해서 문제에 최적화되어 가는 교사 학습과 교사 신호를 필요로 하지 않는 비교사 학습이 있다',\n",
       " '명확한 해답이 있는 경우에는 교사 학습이, 데이터 클러스터링에는 비교사 학습이 이용된다',\n",
       " '다른 기계학습과 같이 신경망은 일반적으로 규칙기반 프로그래밍으로 풀기 어려운 컴퓨터 비전 또는 음성 인식과 같은 다양한 범위의 문제를 푸는데 이용된다.']"
      ]
     },
     "execution_count": 3,
     "metadata": {},
     "output_type": "execute_result"
    }
   ],
   "source": [
    "sents"
   ]
  },
  {
   "cell_type": "code",
   "execution_count": 4,
   "metadata": {},
   "outputs": [],
   "source": [
    "# sents = ['바나나 사과 딸기 바나나 딸기 바나나 키위 파인애플 바나나 바나나 딸기 바나나',\n",
    "#         '사과 바나나 바나나 딸기 사과 사과 파인애플 딸기 파인애플 딸기 딸기 ']"
   ]
  },
  {
   "cell_type": "markdown",
   "metadata": {},
   "source": [
    "#### 1-2. 문장 Tokenize 하기"
   ]
  },
  {
   "cell_type": "markdown",
   "metadata": {},
   "source": [
    "kkma 라이브러리를 이용해 NN, VA, VV 인 단어들만 추출한다."
   ]
  },
  {
   "cell_type": "code",
   "execution_count": 5,
   "metadata": {},
   "outputs": [],
   "source": [
    "kkma = Kkma()\n",
    "tokens =[]\n",
    "for sent in sents:\n",
    "    if len(sent) == 0:\n",
    "        continue\n",
    "    words = kkma.pos(sent)\n",
    "#     print(words)\n",
    "    words = [word_t[0] for word_t in words \n",
    "             if ( 'NN' in word_t[1] or 'VA' in word_t[1] or 'VV' in word_t[1])]\n",
    "    tokens.append(words)"
   ]
  },
  {
   "cell_type": "code",
   "execution_count": 6,
   "metadata": {},
   "outputs": [
    {
     "name": "stdout",
     "output_type": "stream",
     "text": [
      "[['인공', '신경망', '은', '기계', '학습', '인지', '과학', '생물학', '신경망', '영감', '얻', '통계', '학적', '학습', '알고리즘', '시냅스', '결합', '네트워크', '형성', '인공', '뉴런', '노드', '이', '학습', '통하', '시냅스', '결합', '세기', '변화', '문제', '해결', '능력', '가지', '모델', '전반', '가리키'], ['인공', '신경망', '교사', '신호', '정답', '의', '입력', '의하', '문제', '최적화되', '갈', '교사', '학습', '교사', '신호', '필요', '하', '비', '교사', '학습'], ['해답', '있', '경우', '교사', '학습', '데이터', '크', '러', '스터링', '비', '교사', '학습', '이용'], ['기계', '학습', '신경망', '일반적', '규칙', '기반', '프로그래밍', '풀', '어렵', '컴퓨터', '비전', '음성', '인식', '같', '다양', '범위', '문제', '푸', '이용']]\n"
     ]
    }
   ],
   "source": [
    "print(tokens)"
   ]
  },
  {
   "cell_type": "markdown",
   "metadata": {},
   "source": [
    "#### 1-3. 단어 index 만들기"
   ]
  },
  {
   "cell_type": "markdown",
   "metadata": {},
   "source": [
    "문서에서 출현 빈도가 min_count 이상인 단어들을 모아 index 를 만든다."
   ]
  },
  {
   "cell_type": "code",
   "execution_count": 7,
   "metadata": {},
   "outputs": [
    {
     "name": "stdout",
     "output_type": "stream",
     "text": [
      "Counter({'학습': 8, '교사': 6, '신경망': 4, '인공': 3, '문제': 3, '기계': 2, '시냅스': 2, '결합': 2, '신호': 2, '비': 2, '이용': 2, '은': 1, '인지': 1, '과학': 1, '생물학': 1, '영감': 1, '얻': 1, '통계': 1, '학적': 1, '알고리즘': 1, '네트워크': 1, '형성': 1, '뉴런': 1, '노드': 1, '이': 1, '통하': 1, '세기': 1, '변화': 1, '해결': 1, '능력': 1, '가지': 1, '모델': 1, '전반': 1, '가리키': 1, '정답': 1, '의': 1, '입력': 1, '의하': 1, '최적화되': 1, '갈': 1, '필요': 1, '하': 1, '해답': 1, '있': 1, '경우': 1, '데이터': 1, '크': 1, '러': 1, '스터링': 1, '일반적': 1, '규칙': 1, '기반': 1, '프로그래밍': 1, '풀': 1, '어렵': 1, '컴퓨터': 1, '비전': 1, '음성': 1, '인식': 1, '같': 1, '다양': 1, '범위': 1, '푸': 1})\n"
     ]
    }
   ],
   "source": [
    "word_counter = Counter(w for words in tokens for w in words)\n",
    "print(word_counter)"
   ]
  },
  {
   "cell_type": "code",
   "execution_count": 8,
   "metadata": {},
   "outputs": [
    {
     "name": "stdout",
     "output_type": "stream",
     "text": [
      "{'인공': 3, '신경망': 4, '기계': 2, '학습': 8, '시냅스': 2, '결합': 2, '문제': 3, '교사': 6, '신호': 2, '비': 2, '이용': 2}\n"
     ]
    }
   ],
   "source": [
    "min_count=2 # Minumum term frequency\n",
    "min_word_counter = {w:c for w,c in word_counter.items() if c >= min_count}\n",
    "print(min_word_counter)"
   ]
  },
  {
   "cell_type": "code",
   "execution_count": 9,
   "metadata": {},
   "outputs": [
    {
     "name": "stdout",
     "output_type": "stream",
     "text": [
      "정렬 확인 >>  [('학습', 8), ('교사', 6), ('신경망', 4), ('인공', 3), ('문제', 3), ('기계', 2), ('시냅스', 2), ('결합', 2), ('신호', 2), ('비', 2), ('이용', 2)]\n",
      "\n",
      "정렬을 기준으로 단어 list 생성 >>  ['학습', '교사', '신경망', '인공', '문제', '기계', '시냅스', '결합', '신호', '비', '이용']\n"
     ]
    }
   ],
   "source": [
    "## idx_to_vocab -> data type : list\n",
    "## Word list corresponding row and column\n",
    "idx_to_vocab = [w for w, _ in sorted(min_word_counter.items(), key=lambda x:-x[1])] \n",
    "print(\"정렬 확인 >> \", sorted(min_word_counter.items(), key=lambda x:-x[1])) # 1번째 요소로 내림차순(-) 정렬\n",
    "print()\n",
    "print(\"정렬을 기준으로 단어 list 생성 >> \", idx_to_vocab)"
   ]
  },
  {
   "cell_type": "code",
   "execution_count": 10,
   "metadata": {},
   "outputs": [
    {
     "name": "stdout",
     "output_type": "stream",
     "text": [
      "빈도 순으로 정렬한 list에 번호를 매겨 index 생성\n",
      " {'학습': 0, '교사': 1, '신경망': 2, '인공': 3, '문제': 4, '기계': 5, '시냅스': 6, '결합': 7, '신호': 8, '비': 9, '이용': 10}\n"
     ]
    }
   ],
   "source": [
    "## vocab_to_idx -> data type : dict\n",
    "## Vocabulary to index mapper\n",
    "vocab_to_idx = {vocab:idx for idx, vocab in enumerate(idx_to_vocab)}\n",
    "print(\"빈도 순으로 정렬한 list에 번호를 매겨 index 생성\\n\", vocab_to_idx)  "
   ]
  },
  {
   "cell_type": "code",
   "execution_count": null,
   "metadata": {},
   "outputs": [],
   "source": []
  },
  {
   "cell_type": "markdown",
   "metadata": {},
   "source": [
    "#### 1-4. word 그래프 만들기"
   ]
  },
  {
   "cell_type": "markdown",
   "metadata": {},
   "source": [
    "그래프를 구현하는데에는 co-occcurrence 행렬을 사용한다.<br>\n",
    "co-occcurrence(동시출현)는 한 문장, 문단 또는 텍스트 단위에서 같이 출현한 단어이다.<br>"
   ]
  },
  {
   "cell_type": "code",
   "execution_count": 11,
   "metadata": {},
   "outputs": [
    {
     "name": "stdout",
     "output_type": "stream",
     "text": [
      "문장에서 분리된 단어 중에서 >>   ['인공', '신경망', '은', '기계', '학습', '인지', '과학', '생물학', '신경망', '영감', '얻', '통계', '학적', '학습', '알고리즘', '시냅스', '결합', '네트워크', '형성', '인공', '뉴런', '노드', '이', '학습', '통하', '시냅스', '결합', '세기', '변화', '문제', '해결', '능력', '가지', '모델', '전반', '가리키'] \n",
      "\n",
      "일정 빈도 수 이상인 것의 index >>  [3, 2, 5, 0, 2, 0, 6, 7, 3, 0, 6, 7, 4] \n",
      "\n",
      "\n",
      "문장에서 분리된 단어 중에서 >>   ['인공', '신경망', '교사', '신호', '정답', '의', '입력', '의하', '문제', '최적화되', '갈', '교사', '학습', '교사', '신호', '필요', '하', '비', '교사', '학습'] \n",
      "\n",
      "일정 빈도 수 이상인 것의 index >>  [3, 2, 1, 8, 4, 1, 0, 1, 8, 9, 1, 0] \n",
      "\n",
      "\n",
      "문장에서 분리된 단어 중에서 >>   ['해답', '있', '경우', '교사', '학습', '데이터', '크', '러', '스터링', '비', '교사', '학습', '이용'] \n",
      "\n",
      "일정 빈도 수 이상인 것의 index >>  [1, 0, 9, 1, 0, 10] \n",
      "\n",
      "\n",
      "문장에서 분리된 단어 중에서 >>   ['기계', '학습', '신경망', '일반적', '규칙', '기반', '프로그래밍', '풀', '어렵', '컴퓨터', '비전', '음성', '인식', '같', '다양', '범위', '문제', '푸', '이용'] \n",
      "\n",
      "일정 빈도 수 이상인 것의 index >>  [5, 0, 2, 4, 10] \n",
      "\n",
      "\n"
     ]
    }
   ],
   "source": [
    "## make co-occurrence matrix \n",
    "## co-occurrence matrix : scipy.sparse.csr_matrix\n",
    "##                shape = (n_vocabs, n_vocabs)\n",
    "## tokenized_sentes -> list of list of str ( Tokenized sentence list )\n",
    "\n",
    "min_cooccurrence = 1       # Minimum cooccurrence frequency\n",
    "min_count = 2              # Minumum term frequency\n",
    "window =1                  # Co-occurrence window size\n",
    "\n",
    "# print()\n",
    "counter = defaultdict(int)\n",
    "for s, tokens_i in enumerate(tokens):\n",
    "    \n",
    "    print(\"문장에서 분리된 단어 중에서 >>  \", tokens_i,\"\\n\")\n",
    "    vocabs = [vocab_to_idx[w] for w in tokens_i if w in vocab_to_idx]\n",
    "    print(\"일정 빈도 수 이상인 것의 index >> \", vocabs,\"\\n\\n\")\n",
    "    \n",
    "    n = len(vocabs)\n",
    "    for i, v in enumerate(vocabs): \n",
    "        if window <= 0:\n",
    "            b, e = 0, n\n",
    "        else:\n",
    "            b = max(0, i - window)\n",
    "            e = min(i + window, n)\n",
    "            \n",
    "        for j in range(b, e):\n",
    "            if i == j:\n",
    "                continue\n",
    "            counter[(v, vocabs[j])] += 1\n",
    "            counter[(vocabs[j], v)] += 1"
   ]
  },
  {
   "cell_type": "code",
   "execution_count": 12,
   "metadata": {},
   "outputs": [
    {
     "name": "stdout",
     "output_type": "stream",
     "text": [
      "{(2, 3): 2, (3, 2): 2, (5, 2): 1, (2, 5): 1, (0, 5): 2, (5, 0): 2, (2, 0): 3, (0, 2): 3, (6, 0): 2, (0, 6): 2, (7, 6): 2, (6, 7): 2, (3, 7): 1, (7, 3): 1, (0, 3): 1, (3, 0): 1, (4, 7): 1, (7, 4): 1, (1, 2): 1, (2, 1): 1, (8, 1): 2, (1, 8): 2, (4, 8): 1, (8, 4): 1, (1, 4): 1, (4, 1): 1, (0, 1): 5, (1, 0): 5, (9, 8): 1, (8, 9): 1, (1, 9): 2, (9, 1): 2, (9, 0): 1, (0, 9): 1, (10, 0): 1, (0, 10): 1, (4, 2): 1, (2, 4): 1, (10, 4): 1, (4, 10): 1}\n"
     ]
    }
   ],
   "source": [
    "counter = {k:v for k,v in counter.items() if v >= min_cooccurrence}\n",
    "n_vocabs = len(vocab_to_idx)\n",
    "print(counter)"
   ]
  },
  {
   "cell_type": "markdown",
   "metadata": {},
   "source": [
    "(row, cols):data 형태로 값을 가지고 있는 dictionary를 matrix 형태로 변환"
   ]
  },
  {
   "cell_type": "code",
   "execution_count": 13,
   "metadata": {},
   "outputs": [],
   "source": [
    "## convert dictionary to matrix\n",
    "n_rows = n_vocabs\n",
    "n_cols = n_vocabs\n",
    "d = counter\n",
    "rows, cols, data = [], [], []\n",
    "\n",
    "for (i, j), v in d.items():\n",
    "    rows.append(i)\n",
    "    cols.append(j)\n",
    "    data.append(v)\n",
    "\n",
    "mat_co_occurr = csr_matrix((data, (rows, cols)), shape=(n_rows, n_cols))"
   ]
  },
  {
   "cell_type": "code",
   "execution_count": 14,
   "metadata": {},
   "outputs": [
    {
     "data": {
      "text/plain": [
       "matrix([[0, 5, 3, 1, 0, 2, 2, 0, 0, 1, 1],\n",
       "        [5, 0, 1, 0, 1, 0, 0, 0, 2, 2, 0],\n",
       "        [3, 1, 0, 2, 1, 1, 0, 0, 0, 0, 0],\n",
       "        [1, 0, 2, 0, 0, 0, 0, 1, 0, 0, 0],\n",
       "        [0, 1, 1, 0, 0, 0, 0, 1, 1, 0, 1],\n",
       "        [2, 0, 1, 0, 0, 0, 0, 0, 0, 0, 0],\n",
       "        [2, 0, 0, 0, 0, 0, 0, 2, 0, 0, 0],\n",
       "        [0, 0, 0, 1, 1, 0, 2, 0, 0, 0, 0],\n",
       "        [0, 2, 0, 0, 1, 0, 0, 0, 0, 1, 0],\n",
       "        [1, 2, 0, 0, 0, 0, 0, 0, 1, 0, 0],\n",
       "        [1, 0, 0, 0, 1, 0, 0, 0, 0, 0, 0]])"
      ]
     },
     "execution_count": 14,
     "metadata": {},
     "output_type": "execute_result"
    }
   ],
   "source": [
    "mat_co_occurr.todense()          # 각 행렬에서 나타나는 단어는 vocab_to_idx 에서 확인 가능 "
   ]
  },
  {
   "cell_type": "markdown",
   "metadata": {},
   "source": [
    "#### 1-5. 만들어진 그래프에 PageRank 적용"
   ]
  },
  {
   "cell_type": "markdown",
   "metadata": {},
   "source": [
    "##### PageRank\n",
    "\n",
    "$PR(u) = c*\\Sigma_{ v ∈ B_{u}} \\frac{PR(v)}{N_{v}} + {(1-c)}$ <br>"
   ]
  },
  {
   "cell_type": "markdown",
   "metadata": {},
   "source": [
    "$B_{u}$ 는 page $u$ 의 backlinks 의 출발점 마디이고, $v$ -> $u$로 연결이 있다. <br>\n",
    "$N_{v}$ 는 $v$가 가진 link 의 개수<br>\n",
    "$c$는 dampling factor 로 그래프의 다른 vertex로 이동할 확률<br>\n",
    "$1-c$는 새롭게 vertex에 유입될 확률 <br>\n"
   ]
  },
  {
   "cell_type": "code",
   "execution_count": 15,
   "metadata": {},
   "outputs": [],
   "source": [
    "def pagerank(x, df=0.85, max_iter=30, bias=None):\n",
    "    \"\"\"\n",
    "    Arguments\n",
    "    ---------\n",
    "    x : scipy.sparse.csr_matrix\n",
    "        shape = (n vertex, n vertex)\n",
    "    df : float\n",
    "        Damping factor, 0 < df < 1\n",
    "    max_iter : int\n",
    "        Maximum number of iteration\n",
    "    bias : numpy.ndarray or None\n",
    "        If None, equal bias\n",
    "\n",
    "    Returns\n",
    "    -------\n",
    "    R : numpy.ndarray\n",
    "        PageRank vector. shape = (n vertex, 1)\n",
    "    \"\"\"\n",
    "\n",
    "    assert 0 < df < 1\n",
    "\n",
    "    # initialize\n",
    "    A = normalize(x, axis=0, norm='l1')   # column 의 sum 이 1이 되도록 L1 normalization\n",
    "    print(\"transition matrix : A\\n\", A.todense())\n",
    "    R = np.ones(A.shape[0]).reshape(-1,1) # 처음 rank 값은 1로 시작\n",
    "    print(R)\n",
    "    \n",
    "    # check bias\n",
    "    if bias is None:\n",
    "        bias = ((1 - df) * np.ones(A.shape[0]).reshape(-1,1)) #/N # 전체 마디 N..\n",
    "    else:\n",
    "        bias = bias.reshape(-1,1)\n",
    "        bias = A.shape[0] * bias / bias.sum()\n",
    "        assert bias.shape[0] == A.shape[0]\n",
    "        bias = (1 - df) * bias\n",
    "\n",
    "    # iteration\n",
    "    for i in range(max_iter):    # 행렬곱을 반복하면 값이 변하지 않는 시점 (steady state)이 온다.\n",
    "        R = df * (A * R) + bias  # A * R -> column j 에서 row i로의 랭킹 R_j\n",
    "        print(i,\" >>\\n\",R, \"\\n\")\n",
    "\n",
    "    return R"
   ]
  },
  {
   "cell_type": "markdown",
   "metadata": {},
   "source": [
    "\n",
    "##### Damping Factor\n",
    "어떤 마구잡이로 웹서핑을 하는 사람이 그 페이지에 만족을 못하고 다른 페이지로 가는 링크를 클릭할 확률<br>\n",
    "이 값이 0이 되면 pagerank 가 1이 되고 의미가 없음. 0~1사이의 값.<br>"
   ]
  },
  {
   "cell_type": "markdown",
   "metadata": {},
   "source": [
    "##### max iteration\n",
    "max_iter 만큼 ranking 값을 반복해서 계산한다.<br>\n",
    "ranking 값 업데이트를 반복하다보면 값이 변하지 않는 시점(Steady State)가 생긴다.<br>\n"
   ]
  },
  {
   "cell_type": "code",
   "execution_count": 16,
   "metadata": {},
   "outputs": [],
   "source": [
    "damping_factor=0.85 \n",
    "max_iter = 30              # Number of PageRank iterations\n",
    "topk = 10                   # Number of keywords selected from TextRank"
   ]
  },
  {
   "cell_type": "code",
   "execution_count": 17,
   "metadata": {},
   "outputs": [
    {
     "name": "stdout",
     "output_type": "stream",
     "text": [
      "transition matrix : A\n",
      " [[0.         0.45454545 0.375      0.25       0.         0.66666667\n",
      "  0.5        0.         0.         0.25       0.5       ]\n",
      " [0.33333333 0.         0.125      0.         0.2        0.\n",
      "  0.         0.         0.5        0.5        0.        ]\n",
      " [0.2        0.09090909 0.         0.5        0.2        0.33333333\n",
      "  0.         0.         0.         0.         0.        ]\n",
      " [0.06666667 0.         0.25       0.         0.         0.\n",
      "  0.         0.25       0.         0.         0.        ]\n",
      " [0.         0.09090909 0.125      0.         0.         0.\n",
      "  0.         0.25       0.25       0.         0.5       ]\n",
      " [0.13333333 0.         0.125      0.         0.         0.\n",
      "  0.         0.         0.         0.         0.        ]\n",
      " [0.13333333 0.         0.         0.         0.         0.\n",
      "  0.         0.5        0.         0.         0.        ]\n",
      " [0.         0.         0.         0.25       0.2        0.\n",
      "  0.5        0.         0.         0.         0.        ]\n",
      " [0.         0.18181818 0.         0.         0.2        0.\n",
      "  0.         0.         0.         0.25       0.        ]\n",
      " [0.06666667 0.18181818 0.         0.         0.         0.\n",
      "  0.         0.         0.25       0.         0.        ]\n",
      " [0.06666667 0.         0.         0.         0.2        0.\n",
      "  0.         0.         0.         0.         0.        ]]\n",
      "[[1.]\n",
      " [1.]\n",
      " [1.]\n",
      " [1.]\n",
      " [1.]\n",
      " [1.]\n",
      " [1.]\n",
      " [1.]\n",
      " [1.]\n",
      " [1.]\n",
      " [1.]]\n",
      "0  >>\n",
      " [[2.6967803 ]\n",
      " [1.55958333]\n",
      " [1.27560606]\n",
      " [0.63166667]\n",
      " [1.18352273]\n",
      " [0.36958333]\n",
      " [0.68833333]\n",
      " [0.9575    ]\n",
      " [0.68704545]\n",
      " [0.57371212]\n",
      " [0.37666667]] \n",
      "\n",
      "1  >>\n",
      " [[2.07736427]\n",
      " [1.78664173]\n",
      " [1.30333838]\n",
      " [0.77735259]\n",
      " [0.91559564]\n",
      " [0.59116824]\n",
      " [0.8625726 ]\n",
      " [0.7779697 ]\n",
      " [0.7141392 ]\n",
      " [0.68984122]\n",
      " [0.50401641]] \n",
      "\n",
      "2  >>\n",
      " [[2.48330686]\n",
      " [1.62940919]\n",
      " [1.29473438]\n",
      " [0.70999528]\n",
      " [0.9578185 ]\n",
      " [0.52391432]\n",
      " [0.71607174]\n",
      " [0.83743204]\n",
      " [0.72835988]\n",
      " [0.69558925]\n",
      " [0.42336857]] \n",
      "\n",
      "3  >>\n",
      " [[2.27207467]\n",
      " [1.75917666]\n",
      " [1.31109059]\n",
      " [0.74380609]\n",
      " [0.92613684]\n",
      " [0.56900697]\n",
      " [0.78735006]\n",
      " [0.76803363]\n",
      " [0.71245964]\n",
      " [0.69731498]\n",
      " [0.45354987]] \n",
      "\n",
      "4  >>\n",
      " [[2.40365   ]\n",
      " [1.68965534]\n",
      " [1.30696856]\n",
      " [0.72056479]\n",
      " [0.93260327]\n",
      " [0.54680517]\n",
      " [0.73391609]\n",
      " [0.80012583]\n",
      " [0.72749545]\n",
      " [0.70202133]\n",
      " [0.43619416]] \n",
      "\n",
      "5  >>\n",
      " [[2.32887028]\n",
      " [1.73598676]\n",
      " [1.3088955 ]\n",
      " [0.73396439]\n",
      " [0.92943173]\n",
      " [0.56127908]\n",
      " [0.76246715]\n",
      " [0.77357691]\n",
      " [0.71885064]\n",
      " [0.70192817]\n",
      " [0.44474939]] \n",
      "\n",
      "6  >>\n",
      " [[2.37418494]\n",
      " [1.71075112]\n",
      " [1.30901971]\n",
      " [0.7244947 ]\n",
      " [0.92937392]\n",
      " [0.55300878]\n",
      " [0.74270882]\n",
      " [0.78801936]\n",
      " [0.72545199]\n",
      " [0.70301394]\n",
      " [0.43997271]] \n",
      "\n",
      "7  >>\n",
      " [[2.34757893]\n",
      " [1.72686067]\n",
      " [1.30839548]\n",
      " [0.73015795]\n",
      " [0.92987881]\n",
      " [0.55815764]\n",
      " [0.75398252]\n",
      " [0.77759994]\n",
      " [0.72177284]\n",
      " [0.7030845 ]\n",
      " [0.44253071]] \n",
      "\n",
      "8  >>\n",
      " [[2.3636187 ]\n",
      " [1.71780815]\n",
      " [1.30906884]\n",
      " [0.7263035 ]\n",
      " [0.92914852]\n",
      " [0.55507597]\n",
      " [0.74653892]\n",
      " [0.78368053]\n",
      " [0.72436332]\n",
      " [0.70328467]\n",
      " [0.44110887]] \n",
      "\n",
      "9  >>\n",
      " [[2.35404514]\n",
      " [1.72348617]\n",
      " [1.30846066]\n",
      " [0.72864764]\n",
      " [0.92975888]\n",
      " [0.55696535]\n",
      " [0.75094101]\n",
      " [0.77957378]\n",
      " [0.72288268]\n",
      " [0.70334504]\n",
      " [0.44189364]] \n",
      "\n",
      "10  >>\n",
      " [[2.35983109]\n",
      " [1.72020919]\n",
      " [1.30890725]\n",
      " [0.72710321]\n",
      " [0.92927922]\n",
      " [0.55581573]\n",
      " [0.74811064]\n",
      " [0.78204656]\n",
      " [0.72387678]\n",
      " [0.70336542]\n",
      " [0.4414549 ]] \n",
      "\n",
      "11  >>\n",
      " [[2.35634265]\n",
      " [1.72224561]\n",
      " [1.308574  ]\n",
      " [0.72805145]\n",
      " [0.9296237 ]\n",
      " [0.55651892]\n",
      " [0.74981731]\n",
      " [0.78043392]\n",
      " [0.72329313]\n",
      " [0.70339809]\n",
      " [0.44170123]] \n",
      "\n",
      "12  >>\n",
      " [[2.35846016]\n",
      " [1.7210462 ]\n",
      " [1.30879912]\n",
      " [0.72744027]\n",
      " [0.92938362]\n",
      " [0.55608815]\n",
      " [0.74873658]\n",
      " [0.78141932]\n",
      " [0.72367335]\n",
      " [0.7033911 ]\n",
      " [0.44156211]] \n",
      "\n",
      "13  >>\n",
      " [[2.35717462]\n",
      " [1.7217879 ]\n",
      " [1.3086438 ]\n",
      " [0.72781749]\n",
      " [0.92954593]\n",
      " [0.55635206]\n",
      " [0.74939536]\n",
      " [0.78078932]\n",
      " [0.72344569]\n",
      " [0.70340653]\n",
      " [0.44164129]] \n",
      "\n",
      "14  >>\n",
      " [[2.35795829]\n",
      " [1.72134455]\n",
      " [1.30874526]\n",
      " [0.72757777]\n",
      " [0.92943814]\n",
      " [0.55618986]\n",
      " [0.74898192]\n",
      " [0.78117705]\n",
      " [0.72359119]\n",
      " [0.70339993]\n",
      " [0.44159604]] \n",
      "\n",
      "15  >>\n",
      " [[2.35748014]\n",
      " [1.72161808]\n",
      " [1.30867806]\n",
      " [0.72772613]\n",
      " [0.92950874]\n",
      " [0.55628946]\n",
      " [0.74923552]\n",
      " [0.78093207]\n",
      " [0.72350295]\n",
      " [0.70340674]\n",
      " [0.44162212]] \n",
      "\n",
      "16  >>\n",
      " [[2.35777268]\n",
      " [1.72145285]\n",
      " [1.30872118]\n",
      " [0.72763269]\n",
      " [0.92946301]\n",
      " [0.55622813]\n",
      " [0.74907721]\n",
      " [0.78108338]\n",
      " [0.72355867]\n",
      " [0.70340317]\n",
      " [0.44160703]] \n",
      "\n",
      "17  >>\n",
      " [[2.35759352]\n",
      " [1.72155471]\n",
      " [1.30869329]\n",
      " [0.72769059]\n",
      " [0.9294924 ]\n",
      " [0.55626586]\n",
      " [0.74917468]\n",
      " [0.78098848]\n",
      " [0.7235246 ]\n",
      " [0.70340605]\n",
      " [0.44161583]] \n",
      "\n",
      "18  >>\n",
      " [[2.35770344]\n",
      " [1.72149273]\n",
      " [1.308711  ]\n",
      " [0.72765434]\n",
      " [0.92947365]\n",
      " [0.55624259]\n",
      " [0.74911403]\n",
      " [0.7810472 ]\n",
      " [0.72354595]\n",
      " [0.7034044 ]\n",
      " [0.44161067]] \n",
      "\n",
      "19  >>\n",
      " [[2.35763594]\n",
      " [1.72153094]\n",
      " [1.30869971]\n",
      " [0.72767681]\n",
      " [0.92948556]\n",
      " [0.55625693]\n",
      " [0.74915145]\n",
      " [0.78101053]\n",
      " [0.72353283]\n",
      " [0.70340559]\n",
      " [0.44161371]] \n",
      "\n",
      "20  >>\n",
      " [[2.35767745]\n",
      " [1.72150757]\n",
      " [1.30870682]\n",
      " [0.7276628 ]\n",
      " [0.92947803]\n",
      " [0.55624808]\n",
      " [0.74912822]\n",
      " [0.78103323]\n",
      " [0.72354101]\n",
      " [0.70340488]\n",
      " [0.44161192]] \n",
      "\n",
      "21  >>\n",
      " [[2.35765191]\n",
      " [1.72152198]\n",
      " [1.30870233]\n",
      " [0.72767148]\n",
      " [0.92948278]\n",
      " [0.55625354]\n",
      " [0.74914257]\n",
      " [0.7810191 ]\n",
      " [0.72353597]\n",
      " [0.70340536]\n",
      " [0.44161299]] \n",
      "\n",
      "22  >>\n",
      " [[2.35766764]\n",
      " [1.72151313]\n",
      " [1.30870515]\n",
      " [0.72766608]\n",
      " [0.92947979]\n",
      " [0.55625017]\n",
      " [0.74913367]\n",
      " [0.78102785]\n",
      " [0.72353911]\n",
      " [0.70340507]\n",
      " [0.44161235]] \n",
      "\n",
      "23  >>\n",
      " [[2.35765794]\n",
      " [1.72151859]\n",
      " [1.30870338]\n",
      " [0.72766943]\n",
      " [0.92948166]\n",
      " [0.55625225]\n",
      " [0.74913917]\n",
      " [0.78102241]\n",
      " [0.72353717]\n",
      " [0.70340526]\n",
      " [0.44161273]] \n",
      "\n",
      "24  >>\n",
      " [[2.35766392]\n",
      " [1.72151523]\n",
      " [1.30870448]\n",
      " [0.72766735]\n",
      " [0.92948049]\n",
      " [0.55625097]\n",
      " [0.74913576]\n",
      " [0.78102578]\n",
      " [0.72353837]\n",
      " [0.70340514]\n",
      " [0.4416125 ]] \n",
      "\n",
      "25  >>\n",
      " [[2.35766023]\n",
      " [1.72151731]\n",
      " [1.30870379]\n",
      " [0.72766864]\n",
      " [0.92948122]\n",
      " [0.55625176]\n",
      " [0.74913787]\n",
      " [0.78102369]\n",
      " [0.72353763]\n",
      " [0.70340521]\n",
      " [0.44161264]] \n",
      "\n",
      "26  >>\n",
      " [[2.35766251]\n",
      " [1.72151603]\n",
      " [1.30870422]\n",
      " [0.72766784]\n",
      " [0.92948077]\n",
      " [0.55625127]\n",
      " [0.74913656]\n",
      " [0.78102499]\n",
      " [0.72353809]\n",
      " [0.70340517]\n",
      " [0.44161255]] \n",
      "\n",
      "27  >>\n",
      " [[2.3576611 ]\n",
      " [1.72151682]\n",
      " [1.30870395]\n",
      " [0.72766833]\n",
      " [0.92948105]\n",
      " [0.55625157]\n",
      " [0.74913737]\n",
      " [0.78102419]\n",
      " [0.72353781]\n",
      " [0.7034052 ]\n",
      " [0.44161261]] \n",
      "\n",
      "28  >>\n",
      " [[2.35766197]\n",
      " [1.72151633]\n",
      " [1.30870412]\n",
      " [0.72766803]\n",
      " [0.92948088]\n",
      " [0.55625139]\n",
      " [0.74913687]\n",
      " [0.78102468]\n",
      " [0.72353798]\n",
      " [0.70340518]\n",
      " [0.44161257]] \n",
      "\n",
      "29  >>\n",
      " [[2.35766144]\n",
      " [1.72151663]\n",
      " [1.30870402]\n",
      " [0.72766822]\n",
      " [0.92948099]\n",
      " [0.5562515 ]\n",
      " [0.74913718]\n",
      " [0.78102437]\n",
      " [0.72353787]\n",
      " [0.70340519]\n",
      " [0.44161259]] \n",
      "\n"
     ]
    }
   ],
   "source": [
    "rank = pagerank (mat_co_occurr, damping_factor, max_iter).reshape(-1)"
   ]
  },
  {
   "cell_type": "code",
   "execution_count": 18,
   "metadata": {},
   "outputs": [
    {
     "name": "stdout",
     "output_type": "stream",
     "text": [
      "[2.35766144 1.72151663 1.30870402 0.72766822 0.92948099 0.5562515\n",
      " 0.74913718 0.78102437 0.72353787 0.70340519 0.44161259]\n"
     ]
    }
   ],
   "source": [
    "print(rank)"
   ]
  },
  {
   "cell_type": "code",
   "execution_count": 19,
   "metadata": {},
   "outputs": [
    {
     "name": "stdout",
     "output_type": "stream",
     "text": [
      "[0 1 2 4 7 6 3 8 9 5]\n"
     ]
    }
   ],
   "source": [
    "rank_top_ten = np.argsort(-rank)[:topk]  # 내림차순으로 정렬한 index\n",
    "print(rank_top_ten)"
   ]
  },
  {
   "cell_type": "code",
   "execution_count": 20,
   "metadata": {},
   "outputs": [
    {
     "name": "stdout",
     "output_type": "stream",
     "text": [
      "[('학습', 2.3576614369857687), ('교사', 1.7215166308543188), ('신경망', 1.3087040166139103), ('문제', 0.9294809851152348), ('결합', 0.7810243741684996), ('시냅스', 0.7491371803499386), ('인공', 0.7276682157768689), ('신호', 0.7235378729197695), ('비', 0.7034051900688727), ('기계', 0.5562515031740336)]\n"
     ]
    }
   ],
   "source": [
    "topten_keywords = [(idx_to_vocab[idx], rank[idx]) for idx in rank_top_ten]\n",
    "print(topten_keywords)"
   ]
  },
  {
   "cell_type": "code",
   "execution_count": 21,
   "metadata": {},
   "outputs": [],
   "source": [
    "keywords_key = []\n",
    "keywords_rank = []\n",
    "for word, rank in topten_keywords:\n",
    "    keywords_key.append(word)\n",
    "    keywords_rank.append(rank)"
   ]
  },
  {
   "cell_type": "code",
   "execution_count": 27,
   "metadata": {},
   "outputs": [],
   "source": [
    "fm.get_fontconfig_fonts()\n",
    "# font_location = '/usr/share/fonts/truetype/nanum/NanumGothic.ttf'\n",
    "font_location = '/Library/Fonts/NanumGothicExtraBold.ttf'\n",
    "# font_location = 'C:/Windows/Fonts/NanumGothic.ttf' # For Windows\n",
    "fprop = fm.FontProperties(fname=font_location).get_name()"
   ]
  },
  {
   "cell_type": "code",
   "execution_count": 29,
   "metadata": {},
   "outputs": [
    {
     "data": {
      "image/png": "[encoded data removed]",
      "text/plain": [
       "<Figure size 576x504 with 1 Axes>"
      ]
     },
     "metadata": {
      "needs_background": "light"
     },
     "output_type": "display_data"
    }
   ],
   "source": [
    "fig = plt.figure(figsize=(8,7))\n",
    "\n",
    "plt.bar(keywords_key, keywords_rank , color='b')#, align='center')\n",
    "for i, v in enumerate(keywords_key):\n",
    "    plt.text(v, keywords_rank[i], '{:.2}'.format(keywords_rank[i]),          \n",
    "             fontsize = 11, color='black',\n",
    "             horizontalalignment='center', \n",
    "             verticalalignment='bottom')\n",
    "matplotlib.rc('font', family=fprop, size=12)\n",
    "plt.show() "
   ]
  },
  {
   "cell_type": "code",
   "execution_count": 24,
   "metadata": {},
   "outputs": [
    {
     "data": {
      "text/plain": [
       "'/Users/kimhyerin/.matplotlib'"
      ]
     },
     "execution_count": 24,
     "metadata": {},
     "output_type": "execute_result"
    }
   ],
   "source": [
    "matplotlib.get_cachedir()"
   ]
  },
  {
   "cell_type": "markdown",
   "metadata": {},
   "source": [
    "#### (+) 실제 단어의 빈도수와 keyword 추출 비교"
   ]
  },
  {
   "cell_type": "markdown",
   "metadata": {},
   "source": [
    "단순히 단어의 빈도 수를 이용해서 확인했을 때와 결과의 차이를 보인다."
   ]
  },
  {
   "cell_type": "code",
   "execution_count": 25,
   "metadata": {},
   "outputs": [],
   "source": [
    "counter = Counter(w for words in tokens for w in words)\n",
    "counter = {w:c for w,c in counter.items() if c >= min_count}\n",
    "sorted_counter_key = [ l for _,l in sorted([(j,i) for i,j in counter.items()], reverse=True)]\n",
    "sorted_counter_value = [ k for k,_ in sorted([(j,i) for i,j in counter.items()], reverse=True)]"
   ]
  },
  {
   "cell_type": "code",
   "execution_count": 26,
   "metadata": {},
   "outputs": [
    {
     "data": {
      "image/png": "[encoded data removed]",
      "text/plain": [
       "<Figure size 1080x216 with 1 Axes>"
      ]
     },
     "metadata": {
      "needs_background": "light"
     },
     "output_type": "display_data"
    }
   ],
   "source": [
    "fig = plt.figure(figsize=(15,3))\n",
    "plt.bar(sorted_counter_key, sorted_counter_value, color='g')\n",
    "plt.rc('font', family=fprop, size=15)\n",
    "plt.show() "
   ]
  },
  {
   "cell_type": "code",
   "execution_count": null,
   "metadata": {},
   "outputs": [],
   "source": []
  }
 ],
 "metadata": {
  "kernelspec": {
   "display_name": "Python 3",
   "language": "python",
   "name": "python3"
  },
  "language_info": {
   "codemirror_mode": {
    "name": "ipython",
    "version": 3
   },
   "file_extension": ".py",
   "mimetype": "text/x-python",
   "name": "python",
   "nbconvert_exporter": "python",
   "pygments_lexer": "ipython3",
   "version": "3.7.9"
  }
 },
 "nbformat": 4,
 "nbformat_minor": 5
}
